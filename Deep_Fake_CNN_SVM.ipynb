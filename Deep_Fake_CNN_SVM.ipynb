{
  "cells": [
    {
      "cell_type": "markdown",
      "metadata": {
        "id": "33413014"
      },
      "source": [
        "### DeepFake Image Detection using CNN-SVM"
      ],
      "id": "33413014"
    },
    {
      "cell_type": "markdown",
      "metadata": {
        "id": "bba04dd1"
      },
      "source": [
        "###### Import Python Libraries"
      ],
      "id": "bba04dd1"
    },
    {
      "cell_type": "code",
      "execution_count": null,
      "metadata": {
        "id": "87c3ae9f"
      },
      "outputs": [],
      "source": [
        "import os\n",
        "import glob\n",
        "import tensorflow as tf\n",
        "import matplotlib.pyplot as plt\n",
        "import numpy as np# Keras API_\n",
        "import keras\n",
        "from keras.models import Sequential\n",
        "from keras.layers import Dense,Dropout,Flatten\n",
        "from keras.layers import Conv2D, MaxPooling2D, Activation, AveragePooling2D, BatchNormalization\n",
        "from keras.preprocessing.image import ImageDataGenerator\n",
        "import sklearn.metrics as metrics\n",
        "\n",
        "from sklearn.svm import SVC\n",
        "from sklearn.pipeline import make_pipeline\n",
        "from sklearn.preprocessing import StandardScaler\n",
        "from sklearn.model_selection import train_test_split\n",
        "from sklearn.metrics import accuracy_score"
      ],
      "id": "87c3ae9f"
    },
    {
      "cell_type": "markdown",
      "metadata": {
        "id": "9fhzrF4b0abN"
      },
      "source": [
        "**Load Drive**"
      ],
      "id": "9fhzrF4b0abN"
    },
    {
      "cell_type": "code",
      "execution_count": null,
      "metadata": {
        "colab": {
          "base_uri": "https://localhost:8080/"
        },
        "id": "Co8Fwj9n0hEr",
        "outputId": "db1a0f0a-8446-4395-fbb5-bfcf91331e0c"
      },
      "outputs": [
        {
          "name": "stdout",
          "output_type": "stream",
          "text": [
            "Mounted at /content/drive\n"
          ]
        }
      ],
      "source": [
        "from google.colab import drive\n",
        "drive.mount('/content/drive')"
      ],
      "id": "Co8Fwj9n0hEr"
    },
    {
      "cell_type": "markdown",
      "metadata": {
        "id": "fd749ebd"
      },
      "source": [
        "###### Load training, testing and validation samples"
      ],
      "id": "fd749ebd"
    },
    {
      "cell_type": "code",
      "execution_count": null,
      "metadata": {
        "id": "222af6de"
      },
      "outputs": [],
      "source": [
        "train_path = \"/content/drive/MyDrive/Colab Notebooks/DeepFake_CNN_SVM/Deep_Fake_Train\"\n",
        "test_path = \"/content/drive/MyDrive/Colab Notebooks/DeepFake_CNN_SVM/Deep_Fake_Test\"\n",
        "#val_path = \"/content/drive/MyDrive/Colab Notebooks/DeepFake_CNN_SVM/DeepFake_Validation\""
      ],
      "id": "222af6de"
    },
    {
      "cell_type": "markdown",
      "metadata": {
        "id": "1af7ba16"
      },
      "source": [
        "##### Get number of images in the path"
      ],
      "id": "1af7ba16"
    },
    {
      "cell_type": "code",
      "execution_count": null,
      "metadata": {
        "id": "4905399f"
      },
      "outputs": [],
      "source": [
        "def get_files(directory):\n",
        "  if not os.path.exists(directory):\n",
        "    return 0\n",
        "  count=0\n",
        "\n",
        "  for current_path, dirs, files in os.walk(directory):\n",
        "    for dr in dirs:\n",
        "      count += len(glob.glob(os.path.join(current_path, dr +\"/*\")))\n",
        "  return count"
      ],
      "id": "4905399f"
    },
    {
      "cell_type": "code",
      "execution_count": null,
      "metadata": {
        "colab": {
          "base_uri": "https://localhost:8080/"
        },
        "id": "cea7de26",
        "outputId": "722e0948-9443-4b71-de41-3ddb0a1bc7db"
      },
      "outputs": [
        {
          "name": "stdout",
          "output_type": "stream",
          "text": [
            "2 Classes\n",
            "4000 Train images\n",
            "1000 Test images\n"
          ]
        }
      ],
      "source": [
        "num_classes = len(glob.glob(train_path + \"/*\"))\n",
        "train_samples = get_files(train_path)\n",
        "test_samples = get_files(test_path)\n",
        "#val_samples = get_files(val_path)\n",
        "\n",
        "print(num_classes, \"Classes\")\n",
        "print(train_samples, \"Train images\")\n",
        "print(test_samples, \"Test images\")\n",
        "#print(val_samples, \"Validation images\")"
      ],
      "id": "cea7de26"
    },
    {
      "cell_type": "markdown",
      "metadata": {
        "id": "f36c9335"
      },
      "source": [
        "##### Image Pre-processing"
      ],
      "id": "f36c9335"
    },
    {
      "cell_type": "code",
      "execution_count": null,
      "metadata": {
        "id": "638ea93d"
      },
      "outputs": [],
      "source": [
        "train_datagen = ImageDataGenerator(rescale = 1./255,\n",
        "                                   rotation_range=20,\n",
        "                                   width_shift_range=0.2,\n",
        "                                   height_shift_range=0.2,\n",
        "                                   shear_range = 0.2,\n",
        "                                   zoom_range = 0.2,\n",
        "                                   horizontal_flip = True)\n",
        "\n",
        "test_datagen = ImageDataGenerator(rescale = 1./255)\n",
        "\n",
        "#val_datagen = ImageDataGenerator(rescale = 1./255)"
      ],
      "id": "638ea93d"
    },
    {
      "cell_type": "code",
      "execution_count": null,
      "metadata": {
        "colab": {
          "base_uri": "https://localhost:8080/"
        },
        "id": "4a26fb43",
        "outputId": "69725256-a563-4d80-f55d-9ae8a4e43edc"
      },
      "outputs": [
        {
          "name": "stdout",
          "output_type": "stream",
          "text": [
            "Found 4000 images belonging to 2 classes.\n",
            "Found 1000 images belonging to 2 classes.\n"
          ]
        }
      ],
      "source": [
        "img_width, img_height = 150, 150\n",
        "batch_size = 32\n",
        "\n",
        "train_generator = train_datagen.flow_from_directory(train_path,\n",
        "                                                   target_size = (img_width, img_height),\n",
        "                                                   batch_size = batch_size)\n",
        "\n",
        "test_generator = test_datagen.flow_from_directory(test_path,\n",
        "                                                  shuffle = False,\n",
        "                                                  target_size = (img_width, img_height),\n",
        "                                                  batch_size = batch_size)\n",
        "\n",
        "#val_generator = val_datagen.flow_from_directory(val_path,\n",
        "                                                  #shuffle = False,\n",
        "                                                  #target_size = (img_width, img_height),\n",
        "                                                  #batch_size = batch_size)"
      ],
      "id": "4a26fb43"
    },
    {
      "cell_type": "markdown",
      "metadata": {
        "id": "1314257e"
      },
      "source": [
        "##### Get Classes and Labels"
      ],
      "id": "1314257e"
    },
    {
      "cell_type": "code",
      "execution_count": null,
      "metadata": {
        "id": "68529862"
      },
      "outputs": [],
      "source": [
        "classes = train_generator.class_indices"
      ],
      "id": "68529862"
    },
    {
      "cell_type": "code",
      "execution_count": null,
      "metadata": {
        "colab": {
          "base_uri": "https://localhost:8080/"
        },
        "id": "bcef4a64",
        "outputId": "13cabefa-631d-4565-e64b-ebc5a3aea05a"
      },
      "outputs": [
        {
          "data": {
            "text/plain": [
              "{'Fake': 0, 'Real': 1}"
            ]
          },
          "execution_count": 9,
          "metadata": {},
          "output_type": "execute_result"
        }
      ],
      "source": [
        "classes"
      ],
      "id": "bcef4a64"
    },
    {
      "cell_type": "code",
      "execution_count": null,
      "metadata": {
        "id": "e3d41873"
      },
      "outputs": [],
      "source": [
        "labels = ['Fake','Real']"
      ],
      "id": "e3d41873"
    },
    {
      "cell_type": "code",
      "execution_count": null,
      "metadata": {
        "colab": {
          "base_uri": "https://localhost:8080/"
        },
        "id": "e41dd5d6",
        "outputId": "be44da97-b528-4bbe-ba05-3a90ab2ecec7"
      },
      "outputs": [
        {
          "data": {
            "text/plain": [
              "['Fake', 'Real']"
            ]
          },
          "execution_count": 11,
          "metadata": {},
          "output_type": "execute_result"
        }
      ],
      "source": [
        "labels"
      ],
      "id": "e41dd5d6"
    },
    {
      "cell_type": "markdown",
      "metadata": {
        "id": "jQsOEK8sqiGi"
      },
      "source": [
        "***Build CNN Parameters***"
      ],
      "id": "jQsOEK8sqiGi"
    },
    {
      "cell_type": "code",
      "execution_count": null,
      "metadata": {
        "colab": {
          "base_uri": "https://localhost:8080/"
        },
        "id": "KBOnxCVjqPo9",
        "outputId": "deadae50-a9b1-4d3a-f783-7df8dba4f9a9"
      },
      "outputs": [
        {
          "name": "stdout",
          "output_type": "stream",
          "text": [
            "Model: \"sequential\"\n",
            "_________________________________________________________________\n",
            " Layer (type)                Output Shape              Param #   \n",
            "=================================================================\n",
            " conv2d (Conv2D)             (None, 146, 146, 32)      2432      \n",
            "                                                                 \n",
            " max_pooling2d (MaxPooling2  (None, 48, 48, 32)        0         \n",
            " D)                                                              \n",
            "                                                                 \n",
            " conv2d_1 (Conv2D)           (None, 46, 46, 32)        9248      \n",
            "                                                                 \n",
            " max_pooling2d_1 (MaxPoolin  (None, 23, 23, 32)        0         \n",
            " g2D)                                                            \n",
            "                                                                 \n",
            " conv2d_2 (Conv2D)           (None, 21, 21, 64)        18496     \n",
            "                                                                 \n",
            " max_pooling2d_2 (MaxPoolin  (None, 10, 10, 64)        0         \n",
            " g2D)                                                            \n",
            "                                                                 \n",
            " flatten (Flatten)           (None, 6400)              0         \n",
            "                                                                 \n",
            " dense (Dense)               (None, 512)               3277312   \n",
            "                                                                 \n",
            " dropout (Dropout)           (None, 512)               0         \n",
            "                                                                 \n",
            " dense_1 (Dense)             (None, 128)               65664     \n",
            "                                                                 \n",
            " dense_2 (Dense)             (None, 2)                 258       \n",
            "                                                                 \n",
            "=================================================================\n",
            "Total params: 3373410 (12.87 MB)\n",
            "Trainable params: 3373410 (12.87 MB)\n",
            "Non-trainable params: 0 (0.00 Byte)\n",
            "_________________________________________________________________\n"
          ]
        }
      ],
      "source": [
        "input_shape = (img_width, img_height, 3)\n",
        "model = Sequential()\n",
        "model.add(Conv2D(32, (5, 5),input_shape=input_shape,activation='relu'))\n",
        "model.add(MaxPooling2D(pool_size=(3, 3)))\n",
        "model.add(Conv2D(32, (3, 3),activation='relu'))\n",
        "model.add(MaxPooling2D(pool_size=(2, 2)))\n",
        "model.add(Conv2D(64, (3, 3),activation='relu'))\n",
        "model.add(MaxPooling2D(pool_size=(2, 2)))\n",
        "model.add(Flatten())\n",
        "model.add(Dense(512,activation='relu'))\n",
        "model.add(Dropout(0.25))\n",
        "model.add(Dense(128,activation='relu'))\n",
        "model.add(Dense(num_classes,activation='softmax'))\n",
        "model.summary()"
      ],
      "id": "KBOnxCVjqPo9"
    },
    {
      "cell_type": "code",
      "execution_count": null,
      "metadata": {
        "colab": {
          "base_uri": "https://localhost:8080/"
        },
        "id": "V9iW9r8UqmbF",
        "outputId": "562459ee-bfb6-42ff-8cb9-38bec3647976"
      },
      "outputs": [
        {
          "name": "stdout",
          "output_type": "stream",
          "text": [
            "Epoch 1/50\n",
            "125/125 [==============================] - 1858s 15s/step - loss: 0.6461 - accuracy: 0.6248 - val_loss: 1.0589 - val_accuracy: 0.5510\n"
          ]
        },
        {
          "name": "stderr",
          "output_type": "stream",
          "text": [
            "/usr/local/lib/python3.10/dist-packages/keras/src/engine/training.py:3103: UserWarning: You are saving your model as an HDF5 file via `model.save()`. This file format is considered legacy. We recommend using instead the native Keras format, e.g. `model.save('my_model.keras')`.\n",
            "  saving_api.save_model(\n"
          ]
        },
        {
          "name": "stdout",
          "output_type": "stream",
          "text": [
            "Epoch 2/50\n",
            "125/125 [==============================] - 34s 276ms/step - loss: 0.5792 - accuracy: 0.7080 - val_loss: 0.7704 - val_accuracy: 0.5480\n",
            "Epoch 3/50\n",
            "125/125 [==============================] - 35s 277ms/step - loss: 0.5111 - accuracy: 0.7623 - val_loss: 0.7373 - val_accuracy: 0.5870\n",
            "Epoch 4/50\n",
            "125/125 [==============================] - 34s 275ms/step - loss: 0.4650 - accuracy: 0.7855 - val_loss: 0.6447 - val_accuracy: 0.6480\n",
            "Epoch 5/50\n",
            "125/125 [==============================] - 35s 281ms/step - loss: 0.4286 - accuracy: 0.8012 - val_loss: 0.6704 - val_accuracy: 0.6450\n",
            "Epoch 6/50\n",
            "125/125 [==============================] - 35s 279ms/step - loss: 0.4336 - accuracy: 0.8025 - val_loss: 0.6537 - val_accuracy: 0.6450\n",
            "Epoch 7/50\n",
            "125/125 [==============================] - 35s 281ms/step - loss: 0.4100 - accuracy: 0.8220 - val_loss: 0.6532 - val_accuracy: 0.6550\n",
            "Epoch 8/50\n",
            "125/125 [==============================] - 35s 281ms/step - loss: 0.3824 - accuracy: 0.8347 - val_loss: 0.6385 - val_accuracy: 0.6400\n",
            "Epoch 9/50\n",
            "125/125 [==============================] - 35s 278ms/step - loss: 0.3735 - accuracy: 0.8393 - val_loss: 0.6749 - val_accuracy: 0.6570\n",
            "Epoch 10/50\n",
            "125/125 [==============================] - 36s 288ms/step - loss: 0.3666 - accuracy: 0.8485 - val_loss: 0.6895 - val_accuracy: 0.6740\n",
            "Epoch 11/50\n",
            "125/125 [==============================] - 35s 279ms/step - loss: 0.3526 - accuracy: 0.8503 - val_loss: 0.6084 - val_accuracy: 0.7060\n",
            "Epoch 12/50\n",
            "125/125 [==============================] - 35s 277ms/step - loss: 0.3353 - accuracy: 0.8575 - val_loss: 0.6142 - val_accuracy: 0.6960\n",
            "Epoch 13/50\n",
            "125/125 [==============================] - 36s 286ms/step - loss: 0.3279 - accuracy: 0.8690 - val_loss: 0.5988 - val_accuracy: 0.7180\n",
            "Epoch 14/50\n",
            "125/125 [==============================] - 35s 280ms/step - loss: 0.3273 - accuracy: 0.8620 - val_loss: 0.7918 - val_accuracy: 0.6780\n",
            "Epoch 15/50\n",
            "125/125 [==============================] - 35s 280ms/step - loss: 0.3092 - accuracy: 0.8715 - val_loss: 0.6667 - val_accuracy: 0.6860\n",
            "Epoch 16/50\n",
            "125/125 [==============================] - 35s 281ms/step - loss: 0.3044 - accuracy: 0.8760 - val_loss: 0.5601 - val_accuracy: 0.7400\n",
            "Epoch 17/50\n",
            "125/125 [==============================] - 36s 287ms/step - loss: 0.2958 - accuracy: 0.8802 - val_loss: 0.6408 - val_accuracy: 0.7250\n",
            "Epoch 18/50\n",
            "125/125 [==============================] - 35s 278ms/step - loss: 0.2947 - accuracy: 0.8805 - val_loss: 0.6129 - val_accuracy: 0.7260\n",
            "Epoch 19/50\n",
            "125/125 [==============================] - 36s 283ms/step - loss: 0.2894 - accuracy: 0.8798 - val_loss: 0.6077 - val_accuracy: 0.7380\n",
            "Epoch 20/50\n",
            "125/125 [==============================] - 34s 275ms/step - loss: 0.2556 - accuracy: 0.8923 - val_loss: 0.7937 - val_accuracy: 0.6930\n",
            "Epoch 21/50\n",
            "125/125 [==============================] - 36s 290ms/step - loss: 0.2806 - accuracy: 0.8855 - val_loss: 0.7553 - val_accuracy: 0.6890\n"
          ]
        }
      ],
      "source": [
        "from tensorflow.keras.callbacks import EarlyStopping, ModelCheckpoint\n",
        "\n",
        "# Compile the model with the specified optimizer, loss, and metrics\n",
        "opt = tf.keras.optimizers.Adam(learning_rate = 0.001)\n",
        "model.compile(\n",
        "    optimizer = opt,\n",
        "    loss = 'categorical_crossentropy',\n",
        "    metrics = ['accuracy'])\n",
        "\n",
        "# Define callbacks\n",
        "early_stopping = EarlyStopping(\n",
        "    monitor = 'val_accuracy',\n",
        "    patience = 5,\n",
        "    restore_best_weights = True)\n",
        "\n",
        "model_checkpoint = ModelCheckpoint(\n",
        "    'experiment_best_deepFake_model.h5',\n",
        "    monitor = 'val_accuracy',\n",
        "    save_best_only = True)\n",
        "\n",
        "# Train the model with the specified callbacks\n",
        "history = model.fit(\n",
        "    train_generator,\n",
        "    steps_per_epoch = len(train_generator),\n",
        "    validation_data = test_generator,\n",
        "    validation_steps = len(test_generator),\n",
        "    verbose = 1,\n",
        "    epochs = 50,\n",
        "    callbacks = [early_stopping, model_checkpoint]\n",
        ")"
      ],
      "id": "V9iW9r8UqmbF"
    },
    {
      "cell_type": "code",
      "execution_count": null,
      "metadata": {
        "colab": {
          "base_uri": "https://localhost:8080/",
          "height": 907
        },
        "id": "TfDbzF6WqPIb",
        "outputId": "58f62fa8-0d35-49fe-ecb6-c127991c50ef"
      },
      "outputs": [
        {
          "data": {
            "image/png": "[encoded data removed]",
            "text/plain": [
              "<Figure size 640x480 with 1 Axes>"
            ]
          },
          "metadata": {},
          "output_type": "display_data"
        },
        {
          "data": {
            "image/png": "[encoded data removed]",
            "text/plain": [
              "<Figure size 640x480 with 1 Axes>"
            ]
          },
          "metadata": {},
          "output_type": "display_data"
        }
      ],
      "source": [
        "acc = history.history['accuracy']\n",
        "val_acc = history.history['val_accuracy']\n",
        "loss = history.history['loss']\n",
        "val_loss = history.history['val_loss']\n",
        "epochs = range(1, len(acc) + 1)\n",
        "#Train and validation accuracy\n",
        "plt.plot(epochs, acc, 'b', label='Training accuracy')\n",
        "plt.plot(epochs, val_acc, 'r', label='Validation accuracy')\n",
        "plt.title('Training and Validation accuracy')\n",
        "plt.xlabel('Epochs')  # Label for the x-axis\n",
        "plt.ylabel('Accuracy')  # Label for the y-axis\n",
        "plt.legend()\n",
        "\n",
        "plt.figure()\n",
        "#Train and validation loss\n",
        "plt.plot(epochs, loss, 'b', label='Training loss')\n",
        "plt.plot(epochs, val_loss, 'r', label='Validation loss')\n",
        "plt.title('Training and Validation loss')\n",
        "plt.legend()\n",
        "plt.show()"
      ],
      "id": "TfDbzF6WqPIb"
    },
    {
      "cell_type": "code",
      "execution_count": null,
      "metadata": {
        "id": "5Aorjx_AAmVu"
      },
      "outputs": [],
      "source": [
        "# Load the best model from the ModelCheckpoint\n",
        "from tensorflow.keras.models import load_model\n",
        "best_model = load_model('/content/experiment_best_deepFake_model.h5')"
      ],
      "id": "5Aorjx_AAmVu"
    },
    {
      "cell_type": "code",
      "execution_count": null,
      "metadata": {
        "colab": {
          "base_uri": "https://localhost:8080/"
        },
        "id": "3jJLfWeKAmNu",
        "outputId": "f6279142-50d9-4a5d-c213-bdf3288b9e1c"
      },
      "outputs": [
        {
          "name": "stdout",
          "output_type": "stream",
          "text": [
            "125/125 [==============================] - 32s 254ms/step\n",
            "32/32 [==============================] - 3s 77ms/step\n"
          ]
        }
      ],
      "source": [
        "# Extract features from the training and validation sets\n",
        "X_train_features = best_model.predict(train_generator)\n",
        "X_val_features = best_model.predict(test_generator)"
      ],
      "id": "3jJLfWeKAmNu"
    },
    {
      "cell_type": "code",
      "execution_count": null,
      "metadata": {
        "colab": {
          "background_save": true
        },
        "id": "RSxcYEi_AmHf"
      },
      "outputs": [],
      "source": [
        "from sklearn import svm\n",
        "# Create the SVM model with RBF kernel and specified C and gamma\n",
        "svm_model = svm.SVC(kernel = 'rbf', C = 100, gamma = 0.01)"
      ],
      "id": "RSxcYEi_AmHf"
    },
    {
      "cell_type": "code",
      "execution_count": null,
      "metadata": {
        "colab": {
          "base_uri": "https://localhost:8080/",
          "height": 75
        },
        "id": "tBxfe9JmCUwn",
        "outputId": "45164e9c-51c4-4904-c542-e0ff9c2ae741"
      },
      "outputs": [
        {
          "data": {
            "text/html": [
              "<style>#sk-container-id-34 {color: black;background-color: white;}#sk-container-id-34 pre{padding: 0;}#sk-container-id-34 div.sk-toggleable {background-color: white;}#sk-container-id-34 label.sk-toggleable__label {cursor: pointer;display: block;width: 100%;margin-bottom: 0;padding: 0.3em;box-sizing: border-box;text-align: center;}#sk-container-id-34 label.sk-toggleable__label-arrow:before {content: \"▸\";float: left;margin-right: 0.25em;color: #696969;}#sk-container-id-34 label.sk-toggleable__label-arrow:hover:before {color: black;}#sk-container-id-34 div.sk-estimator:hover label.sk-toggleable__label-arrow:before {color: black;}#sk-container-id-34 div.sk-toggleable__content {max-height: 0;max-width: 0;overflow: hidden;text-align: left;background-color: #f0f8ff;}#sk-container-id-34 div.sk-toggleable__content pre {margin: 0.2em;color: black;border-radius: 0.25em;background-color: #f0f8ff;}#sk-container-id-34 input.sk-toggleable__control:checked~div.sk-toggleable__content {max-height: 200px;max-width: 100%;overflow: auto;}#sk-container-id-34 input.sk-toggleable__control:checked~label.sk-toggleable__label-arrow:before {content: \"▾\";}#sk-container-id-34 div.sk-estimator input.sk-toggleable__control:checked~label.sk-toggleable__label {background-color: #d4ebff;}#sk-container-id-34 div.sk-label input.sk-toggleable__control:checked~label.sk-toggleable__label {background-color: #d4ebff;}#sk-container-id-34 input.sk-hidden--visually {border: 0;clip: rect(1px 1px 1px 1px);clip: rect(1px, 1px, 1px, 1px);height: 1px;margin: -1px;overflow: hidden;padding: 0;position: absolute;width: 1px;}#sk-container-id-34 div.sk-estimator {font-family: monospace;background-color: #f0f8ff;border: 1px dotted black;border-radius: 0.25em;box-sizing: border-box;margin-bottom: 0.5em;}#sk-container-id-34 div.sk-estimator:hover {background-color: #d4ebff;}#sk-container-id-34 div.sk-parallel-item::after {content: \"\";width: 100%;border-bottom: 1px solid gray;flex-grow: 1;}#sk-container-id-34 div.sk-label:hover label.sk-toggleable__label {background-color: #d4ebff;}#sk-container-id-34 div.sk-serial::before {content: \"\";position: absolute;border-left: 1px solid gray;box-sizing: border-box;top: 0;bottom: 0;left: 50%;z-index: 0;}#sk-container-id-34 div.sk-serial {display: flex;flex-direction: column;align-items: center;background-color: white;padding-right: 0.2em;padding-left: 0.2em;position: relative;}#sk-container-id-34 div.sk-item {position: relative;z-index: 1;}#sk-container-id-34 div.sk-parallel {display: flex;align-items: stretch;justify-content: center;background-color: white;position: relative;}#sk-container-id-34 div.sk-item::before, #sk-container-id-34 div.sk-parallel-item::before {content: \"\";position: absolute;border-left: 1px solid gray;box-sizing: border-box;top: 0;bottom: 0;left: 50%;z-index: -1;}#sk-container-id-34 div.sk-parallel-item {display: flex;flex-direction: column;z-index: 1;position: relative;background-color: white;}#sk-container-id-34 div.sk-parallel-item:first-child::after {align-self: flex-end;width: 50%;}#sk-container-id-34 div.sk-parallel-item:last-child::after {align-self: flex-start;width: 50%;}#sk-container-id-34 div.sk-parallel-item:only-child::after {width: 0;}#sk-container-id-34 div.sk-dashed-wrapped {border: 1px dashed gray;margin: 0 0.4em 0.5em 0.4em;box-sizing: border-box;padding-bottom: 0.4em;background-color: white;}#sk-container-id-34 div.sk-label label {font-family: monospace;font-weight: bold;display: inline-block;line-height: 1.2em;}#sk-container-id-34 div.sk-label-container {text-align: center;}#sk-container-id-34 div.sk-container {/* jupyter's `normalize.less` sets `[hidden] { display: none; }` but bootstrap.min.css set `[hidden] { display: none !important; }` so we also need the `!important` here to be able to override the default hidden behavior on the sphinx rendered scikit-learn.org. See: https://github.com/scikit-learn/scikit-learn/issues/21755 */display: inline-block !important;position: relative;}#sk-container-id-34 div.sk-text-repr-fallback {display: none;}</style><div id=\"sk-container-id-34\" class=\"sk-top-container\"><div class=\"sk-text-repr-fallback\"><pre>SVC(C=100, gamma=0.01)</pre><b>In a Jupyter environment, please rerun this cell to show the HTML representation or trust the notebook. <br />On GitHub, the HTML representation is unable to render, please try loading this page with nbviewer.org.</b></div><div class=\"sk-container\" hidden><div class=\"sk-item\"><div class=\"sk-estimator sk-toggleable\"><input class=\"sk-toggleable__control sk-hidden--visually\" id=\"sk-estimator-id-34\" type=\"checkbox\" checked><label for=\"sk-estimator-id-34\" class=\"sk-toggleable__label sk-toggleable__label-arrow\">SVC</label><div class=\"sk-toggleable__content\"><pre>SVC(C=100, gamma=0.01)</pre></div></div></div></div></div>"
            ],
            "text/plain": [
              "SVC(C=100, gamma=0.01)"
            ]
          },
          "execution_count": 127,
          "metadata": {},
          "output_type": "execute_result"
        }
      ],
      "source": [
        "# Train the SVM classifier\n",
        "svm_model.fit(X_train_features, train_generator.classes)"
      ],
      "id": "tBxfe9JmCUwn"
    },
    {
      "cell_type": "code",
      "execution_count": null,
      "metadata": {
        "colab": {
          "base_uri": "https://localhost:8080/"
        },
        "id": "hHnqWkdJCUru",
        "outputId": "b8a3f4a7-ef01-4e1f-c5b5-d41baf76aadf"
      },
      "outputs": [
        {
          "name": "stdout",
          "output_type": "stream",
          "text": [
            "Accuracy: 73.90%\n"
          ]
        }
      ],
      "source": [
        "# Predict on the test set\n",
        "predictions = svm_model.predict(X_val_features)\n",
        "\n",
        "# Evaluate the accuracy\n",
        "accuracy = accuracy_score(test_generator.classes, predictions)\n",
        "print(f'Accuracy: {accuracy * 100:.2f}%')"
      ],
      "id": "hHnqWkdJCUru"
    },
    {
      "cell_type": "code",
      "execution_count": null,
      "metadata": {
        "colab": {
          "base_uri": "https://localhost:8080/"
        },
        "id": "I6ra0vSbCUnn",
        "outputId": "d8a1ca2e-7c3c-4cfb-dc7e-9b4209be7c00"
      },
      "outputs": [
        {
          "name": "stdout",
          "output_type": "stream",
          "text": [
            "[1 0 0 0 1 0 1 0 1 1 1 1 1 1 1 1 0 1 0 0 0 1 0 1 0 0 0 0 1 0 1 0 1 1 0 0 0\n",
            " 1 0 0 1 1 1 0 0 0 0 1 0 1 0 1 0 0 1 0 0 1 0 1 0 0 1 1 0 0 0 0 1 0 0 0 0 1\n",
            " 0 1 1 1 0 0 1 1 1 0 0 0 0 0 1 1 1 1 0 0 0 0 0 1 0 1 0 0 0 0 1 1 0 1 0 0 0\n",
            " 0 0 1 0 1 1 1 0 0 0 0 0 1 0 0 0 0 0 1 1 1 0 1 0 1 0 0 0 0 0 1 1 1 0 1 0 1\n",
            " 1 1 1 1 0 1 1 1 1 0 1 1 0 0 1 0 0 0 1 0 0 1 1 1 1 0 0 0 1 1 1 0 0 0 1 1 0\n",
            " 0 0 1 0 1 0 0 0 0 1 0 0 1 0 0 0 0 0 1 0 0 1 0 1 0 1 1 1 0 1 1 1 1 1 1 1 0\n",
            " 0 0 0 0 0 0 0 0 0 1 1 0 0 0 0 1 1 1 1 1 1 0 0 0 1 1 1 1 0 0 1 0 1 0 0 0 1\n",
            " 1 1 1 0 0 0 0 0 0 0 0 0 0 0 0 0 0 0 0 0 0 0 0 0 1 0 0 0 0 0 0 0 0 0 0 0 0\n",
            " 0 0 0 0 0 0 0 0 0 0 0 0 0 0 1 0 1 0 0 0 0 0 0 0 0 0 0 0 0 0 0 0 1 1 0 0 0\n",
            " 0 0 0 0 0 0 1 0 0 0 0 0 0 1 1 0 0 0 0 0 0 0 0 0 1 0 0 0 0 0 0 0 0 0 0 1 0\n",
            " 0 0 1 0 0 0 0 0 0 0 0 0 0 0 0 0 1 0 0 0 0 0 0 0 0 0 0 0 0 0 0 0 0 0 0 0 0\n",
            " 0 0 0 0 0 0 1 0 0 0 0 0 0 1 0 0 0 0 0 1 1 0 0 0 0 0 0 0 0 0 0 0 0 0 0 0 0\n",
            " 0 0 1 0 1 0 0 0 1 0 0 1 1 1 0 1 0 0 0 0 0 0 0 0 1 0 0 1 1 0 0 0 0 0 1 1 0\n",
            " 0 0 0 1 1 1 1 0 1 0 0 0 0 0 0 0 0 0 0 1 1 0 1 1 1 1 1 1 0 1 1 0 1 1 1 1 1\n",
            " 1 1 1 1 1 1 0 1 1 1 1 1 1 1 1 1 0 1 0 1 1 0 1 1 1 1 1 1 1 1 1 1 0 1 1 1 1\n",
            " 0 1 1 1 1 0 1 1 1 0 0 1 1 1 0 0 0 1 1 1 1 1 1 1 0 1 1 1 0 1 1 1 1 1 1 1 1\n",
            " 1 1 0 1 1 1 0 1 1 0 1 1 1 1 0 1 1 1 0 1 0 1 1 1 0 1 1 1 1 1 0 1 0 1 1 1 0\n",
            " 1 1 1 1 1 1 1 1 1 1 0 1 0 0 1 1 0 0 1 1 0 1 1 0 1 1 1 1 1 1 1 1 1 0 1 1 1\n",
            " 0 1 1 1 1 1 1 0 0 1 0 1 1 1 1 1 1 1 1 1 0 0 1 1 1 1 1 1 0 1 1 0 1 1 1 1 0\n",
            " 1 1 1 1 1 1 1 1 1 1 0 1 0 1 0 1 1 1 1 1 1 1 0 1 0 0 1 1 1 1 1 1 1 0 0 1 1\n",
            " 1 0 1 1 1 1 1 1 0 1 0 0 1 1 0 1 1 1 1 1 0 1 1 1 1 1 1 1 1 1 1 1 1 1 1 1 0\n",
            " 1 1 1 1 1 0 1 1 0 0 1 0 0 1 1 1 1 0 1 1 1 1 0 1 0 1 1 1 1 1 1 1 1 1 1 1 1\n",
            " 1 1 1 1 1 1 1 1 0 0 0 1 1 1 1 1 1 0 1 1 1 1 1 0 0 1 1 0 1 1 0 1 1 1 1 1 0\n",
            " 1 1 1 0 1 1 1 1 1 0 1 1 1 1 1 1 1 1 0 1 1 1 0 0 1 1 1 1 1 1 1 1 0 1 0 1 1\n",
            " 1 1 1 0 0 1 1 1 0 1 1 0 0 1 0 1 1 1 1 1 1 1 1 1 1 1 0 1 0 0 0 1 1 1 1 1 1\n",
            " 0 1 1 1 1 1 1 0 1 0 1 1 1 1 0 1 1 1 1 0 1 1 1 1 0 1 1 1 1 1 1 1 1 1 0 0 1\n",
            " 1 1 1 1 1 1 1 1 1 1 1 1 1 1 0 1 0 1 1 0 0 1 1 1 1 1 0 1 1 1 1 1 1 1 1 1 1\n",
            " 1]\n"
          ]
        }
      ],
      "source": [
        "print(predictions)"
      ],
      "id": "I6ra0vSbCUnn"
    },
    {
      "cell_type": "code",
      "execution_count": null,
      "metadata": {
        "colab": {
          "base_uri": "https://localhost:8080/"
        },
        "id": "HaLw3IpACUjX",
        "outputId": "b1e0ebf7-3a9d-416f-c1b5-4483e27f501c"
      },
      "outputs": [
        {
          "name": "stdout",
          "output_type": "stream",
          "text": [
            "Classification Report:\n",
            "              precision    recall  f1-score   support\n",
            "\n",
            "        Fake       0.77      0.70      0.73       500\n",
            "        Real       0.72      0.79      0.75       500\n",
            "\n",
            "    accuracy                           0.74      1000\n",
            "   macro avg       0.74      0.74      0.74      1000\n",
            "weighted avg       0.74      0.74      0.74      1000\n",
            "\n"
          ]
        }
      ],
      "source": [
        "# Print Classification Report\n",
        "from sklearn.metrics import classification_report\n",
        "\n",
        "print(\"Classification Report:\")\n",
        "print(classification_report(test_generator.classes, predictions, target_names = labels))"
      ],
      "id": "HaLw3IpACUjX"
    },
    {
      "cell_type": "code",
      "execution_count": null,
      "metadata": {
        "colab": {
          "base_uri": "https://localhost:8080/",
          "height": 564
        },
        "id": "AXCaDhspCUfb",
        "outputId": "d9bd82da-99b7-465a-946d-24e83f7d0d41"
      },
      "outputs": [
        {
          "data": {
            "image/png": "[encoded data removed]",
            "text/plain": [
              "<Figure size 800x600 with 2 Axes>"
            ]
          },
          "metadata": {},
          "output_type": "display_data"
        }
      ],
      "source": [
        "import numpy as np\n",
        "import matplotlib.pyplot as plt\n",
        "import seaborn as sns\n",
        "from sklearn.metrics import confusion_matrix\n",
        "\n",
        "# Compute confusion matrix\n",
        "conf_matrix = confusion_matrix(test_generator.classes, predictions)\n",
        "\n",
        "# Plot confusion matrix\n",
        "plt.figure(figsize=(8, 6))\n",
        "sns.heatmap(conf_matrix, annot = True, fmt = \"d\", cmap = \"Blues\", xticklabels = labels, yticklabels = labels)\n",
        "plt.title('Confusion Matrix')\n",
        "plt.xlabel('Predicted')\n",
        "plt.ylabel('True')\n",
        "plt.show()"
      ],
      "id": "AXCaDhspCUfb"
    },
    {
      "cell_type": "code",
      "execution_count": null,
      "metadata": {
        "id": "gr7DDtAFAmDY"
      },
      "outputs": [],
      "source": [],
      "id": "gr7DDtAFAmDY"
    }
  ],
  "metadata": {
    "accelerator": "GPU",
    "colab": {
      "provenance": []
    },
    "kernelspec": {
      "display_name": "Python 3",
      "name": "python3"
    },
    "language_info": {
      "codemirror_mode": {
        "name": "ipython",
        "version": 3
      },
      "file_extension": ".py",
      "mimetype": "text/x-python",
      "name": "python",
      "nbconvert_exporter": "python",
      "pygments_lexer": "ipython3",
      "version": "3.11.4"
    }
  },
  "nbformat": 4,
  "nbformat_minor": 5
}